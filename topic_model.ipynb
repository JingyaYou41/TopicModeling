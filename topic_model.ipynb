{
 "cells": [
  {
   "cell_type": "markdown",
   "id": "3f29e4c7",
   "metadata": {},
   "source": [
    "# install gensim"
   ]
  },
  {
   "cell_type": "code",
   "execution_count": 6,
   "id": "abf1f79c",
   "metadata": {},
   "outputs": [
    {
     "name": "stdout",
     "output_type": "stream",
     "text": [
      "Collecting gensim\n",
      "  Downloading gensim-4.2.0-cp37-cp37m-win_amd64.whl (24.0 MB)\n",
      "Collecting smart-open>=1.8.1\n",
      "  Using cached smart_open-6.3.0-py3-none-any.whl (56 kB)\n",
      "Collecting Cython==0.29.28\n",
      "  Downloading Cython-0.29.28-py2.py3-none-any.whl (983 kB)\n",
      "Requirement already satisfied: numpy>=1.17.0 in c:\\users\\lin\\anaconda3\\envs\\snowflakes\\lib\\site-packages (from gensim) (1.21.2)\n",
      "Collecting scipy>=0.18.1\n",
      "  Downloading scipy-1.7.3-cp37-cp37m-win_amd64.whl (34.1 MB)\n",
      "Installing collected packages: smart-open, scipy, Cython, gensim\n",
      "Successfully installed Cython-0.29.28 gensim-4.2.0 scipy-1.7.3 smart-open-6.3.0\n"
     ]
    }
   ],
   "source": [
    "!pip install gensim"
   ]
  },
  {
   "cell_type": "code",
   "execution_count": 3,
   "id": "c384250e",
   "metadata": {},
   "outputs": [
    {
     "name": "stdout",
     "output_type": "stream",
     "text": [
      "Collecting nltk\n",
      "  Downloading nltk-3.8.1-py3-none-any.whl (1.5 MB)\n",
      "Collecting regex>=2021.8.3\n",
      "  Downloading regex-2022.10.31-cp37-cp37m-win_amd64.whl (268 kB)\n",
      "Collecting tqdm\n",
      "  Downloading tqdm-4.65.0-py3-none-any.whl (77 kB)\n",
      "Collecting click\n",
      "  Downloading click-8.1.3-py3-none-any.whl (96 kB)\n",
      "Collecting joblib\n",
      "  Downloading joblib-1.2.0-py3-none-any.whl (297 kB)\n",
      "Requirement already satisfied: importlib-metadata in c:\\users\\lin\\anaconda3\\envs\\snowflakes\\lib\\site-packages (from click->nltk) (4.8.1)\n",
      "Requirement already satisfied: colorama in c:\\users\\lin\\anaconda3\\envs\\snowflakes\\lib\\site-packages (from click->nltk) (0.4.4)\n",
      "Requirement already satisfied: typing-extensions>=3.6.4 in c:\\users\\lin\\anaconda3\\envs\\snowflakes\\lib\\site-packages (from importlib-metadata->click->nltk) (3.10.0.2)\n",
      "Requirement already satisfied: zipp>=0.5 in c:\\users\\lin\\anaconda3\\envs\\snowflakes\\lib\\site-packages (from importlib-metadata->click->nltk) (3.6.0)\n",
      "Installing collected packages: tqdm, regex, joblib, click, nltk\n",
      "Successfully installed click-8.1.3 joblib-1.2.0 nltk-3.8.1 regex-2022.10.31 tqdm-4.65.0\n"
     ]
    }
   ],
   "source": [
    "!pip install nltk"
   ]
  },
  {
   "cell_type": "code",
   "execution_count": 20,
   "id": "35a46c20",
   "metadata": {},
   "outputs": [
    {
     "name": "stdout",
     "output_type": "stream",
     "text": [
      "Requirement already satisfied: numpy in c:\\users\\lin\\anaconda3\\envs\\snowflakes\\lib\\site-packages (1.21.6)\n"
     ]
    }
   ],
   "source": [
    "!pip3 install --upgrade numpy"
   ]
  },
  {
   "cell_type": "code",
   "execution_count": 1,
   "id": "a43f8303",
   "metadata": {},
   "outputs": [
    {
     "name": "stderr",
     "output_type": "stream",
     "text": [
      "[nltk_data] Downloading package stopwords to\n",
      "[nltk_data]     C:\\Users\\lin\\AppData\\Roaming\\nltk_data...\n",
      "[nltk_data]   Package stopwords is already up-to-date!\n",
      "[nltk_data] Downloading package wordnet to\n",
      "[nltk_data]     C:\\Users\\lin\\AppData\\Roaming\\nltk_data...\n",
      "[nltk_data]   Package wordnet is already up-to-date!\n",
      "[nltk_data] Downloading package omw-1.4 to\n",
      "[nltk_data]     C:\\Users\\lin\\AppData\\Roaming\\nltk_data...\n",
      "[nltk_data]   Package omw-1.4 is already up-to-date!\n"
     ]
    },
    {
     "data": {
      "text/plain": [
       "True"
      ]
     },
     "execution_count": 1,
     "metadata": {},
     "output_type": "execute_result"
    }
   ],
   "source": [
    "import nltk\n",
    "nltk.download('stopwords')\n",
    "nltk.download('wordnet')\n",
    "nltk.download('omw-1.4')"
   ]
  },
  {
   "cell_type": "code",
   "execution_count": 2,
   "id": "7859f712",
   "metadata": {},
   "outputs": [
    {
     "name": "stderr",
     "output_type": "stream",
     "text": [
      "C:\\Users\\lin\\anaconda3\\lib\\site-packages\\paramiko\\transport.py:219: CryptographyDeprecationWarning: Blowfish has been deprecated\n",
      "  \"class\": algorithms.Blowfish,\n"
     ]
    }
   ],
   "source": [
    "from nltk.corpus import stopwords\n",
    "from nltk.stem.wordnet import WordNetLemmatizer\n",
    "from nltk.tokenize import word_tokenize\n",
    "import string\n",
    "import gensim\n",
    "from gensim import corpora\n",
    "import numpy as np\n",
    "import csv\n",
    "import os"
   ]
  },
  {
   "cell_type": "code",
   "execution_count": 3,
   "id": "67326279",
   "metadata": {},
   "outputs": [],
   "source": [
    "def get_text(filepath):\n",
    "    doc = \"\"\n",
    "    with open(filepath, 'r') as f:\n",
    "        for line in f.readlines():\n",
    "            doc += line\n",
    "    return doc\n",
    "\n",
    "stop = set(stopwords.words('english'))\n",
    "single_char = set(string.ascii_lowercase)\n",
    "exclude = set(string.punctuation)\n",
    "lemma = WordNetLemmatizer()\n",
    "\n",
    "def clean_old(doc):\n",
    "    \n",
    "    stop_free = \" \".join([i for i in doc.lower().split() if i not in stop]) # lowercase and remove stop word\n",
    "    punc_free = ''.join(ch for ch in stop_free if ch not in exclude)\n",
    "    normalized = \" \".join(lemma.lemmatize(word) for word in punc_free.split()) #lemmatization\n",
    "    return normalized\n",
    "\n",
    "def clean(doc):\n",
    "    stop_free = \" \".join([i for i in doc.lower().split() if i not in stop]) # lowercase and remove stop word\n",
    "    punc_free = ''.join(ch for ch in stop_free if ch not in exclude) #remove punc\n",
    "    normalized = \" \".join(lemma.lemmatize(word) for word in punc_free.split()) #lemmatization\n",
    "    removed_single = \" \".join(i for i in normalized.split() if i not in single_char) #remove single alpha\n",
    "    lis = removed_single.split()\n",
    "    return list(filter(lambda x :not x.isdigit(), lis))"
   ]
  },
  {
   "cell_type": "code",
   "execution_count": 4,
   "id": "a643405e",
   "metadata": {},
   "outputs": [
    {
     "data": {
      "text/plain": [
       "False"
      ]
     },
     "execution_count": 4,
     "metadata": {},
     "output_type": "execute_result"
    }
   ],
   "source": [
    "\"\\a\" in exclude"
   ]
  },
  {
   "cell_type": "code",
   "execution_count": 5,
   "id": "6eeea80d",
   "metadata": {},
   "outputs": [
    {
     "data": {
      "text/plain": [
       "914317"
      ]
     },
     "execution_count": 5,
     "metadata": {},
     "output_type": "execute_result"
    }
   ],
   "source": [
    "def get_cik(filename):\n",
    "    c = 0\n",
    "    for i in range(len(filename)):\n",
    "        if (filename[i] == '_'):\n",
    "            c += 1\n",
    "        if (c == 5):\n",
    "            return int(filename[i+1:i+11])\n",
    "    \n",
    "get_cik(\"20000103_10-K_edgar_data_12040_0000914317-00-000002.txt-item1.txt\")"
   ]
  },
  {
   "cell_type": "markdown",
   "id": "45d0a557",
   "metadata": {},
   "source": [
    "# train"
   ]
  },
  {
   "cell_type": "code",
   "execution_count": 3,
   "id": "2f76c855",
   "metadata": {},
   "outputs": [
    {
     "data": {
      "text/plain": [
       "'!\"#$%&\\'()*+,-./:;<=>?@[\\\\]^_`{|}~'"
      ]
     },
     "execution_count": 3,
     "metadata": {},
     "output_type": "execute_result"
    }
   ],
   "source": [
    "string.punctuation"
   ]
  },
  {
   "cell_type": "code",
   "execution_count": 4,
   "id": "4aacfec0",
   "metadata": {},
   "outputs": [
    {
     "data": {
      "text/plain": [
       "'abcdefghijklmnopqrstuvwxyz'"
      ]
     },
     "execution_count": 4,
     "metadata": {},
     "output_type": "execute_result"
    }
   ],
   "source": [
    "string.ascii_lowercase"
   ]
  },
  {
   "cell_type": "code",
   "execution_count": 5,
   "id": "ca4cf647",
   "metadata": {},
   "outputs": [],
   "source": [
    "lemma = WordNetLemmatizer()"
   ]
  },
  {
   "cell_type": "code",
   "execution_count": 87,
   "id": "d6f3ca65",
   "metadata": {},
   "outputs": [
    {
     "data": {
      "text/plain": [
       "['a', ' a0']"
      ]
     },
     "execution_count": 87,
     "metadata": {},
     "output_type": "execute_result"
    }
   ],
   "source": [
    "lis = ['1010', 'a' ,' a0']\n",
    "a = \n",
    "list(a)"
   ]
  },
  {
   "cell_type": "markdown",
   "id": "d5e9feaa",
   "metadata": {},
   "source": [
    "# get dictionary"
   ]
  },
  {
   "cell_type": "code",
   "execution_count": 7,
   "id": "052cd4a7",
   "metadata": {},
   "outputs": [],
   "source": [
    "root = \"C:\\\\Users\\\\lin\\\\Box\\\\Yijun-Jingya\\\\10-K match content\\\\\""
   ]
  },
  {
   "cell_type": "code",
   "execution_count": 8,
   "id": "5c07082d",
   "metadata": {},
   "outputs": [],
   "source": [
    "\n",
    "\n",
    "comp_set = set()\n",
    "with open(root + \"00-21 company list.csv\", 'r') as f:\n",
    "    reader = csv.reader(f)\n",
    "    for row in reader:\n",
    "        if (row[12] != '' and row[12] != 'cik'):\n",
    "            comp_set.add(int(row[12]))"
   ]
  },
  {
   "cell_type": "code",
   "execution_count": 9,
   "id": "4cda384b",
   "metadata": {},
   "outputs": [
    {
     "data": {
      "text/plain": [
       "4443"
      ]
     },
     "execution_count": 9,
     "metadata": {},
     "output_type": "execute_result"
    }
   ],
   "source": [
    "len(comp_set)"
   ]
  },
  {
   "cell_type": "code",
   "execution_count": 10,
   "id": "c4fe764d",
   "metadata": {},
   "outputs": [
    {
     "data": {
      "text/plain": [
       "914317"
      ]
     },
     "execution_count": 10,
     "metadata": {},
     "output_type": "execute_result"
    }
   ],
   "source": [
    "int('0000914317')"
   ]
  },
  {
   "cell_type": "code",
   "execution_count": 11,
   "id": "2de408b9",
   "metadata": {},
   "outputs": [
    {
     "data": {
      "text/plain": [
       "914317"
      ]
     },
     "execution_count": 11,
     "metadata": {},
     "output_type": "execute_result"
    }
   ],
   "source": [
    "def get_cik(filename):\n",
    "    c = 0\n",
    "    for i in range(len(filename)):\n",
    "        if (filename[i] == '_'):\n",
    "            c += 1\n",
    "        if (c == 5):\n",
    "            return int(filename[i+1:i+11])\n",
    "    \n",
    "get_cik(\"20000103_10-K_edgar_data_12040_0000914317-00-000002.txt-item1.txt\")"
   ]
  },
  {
   "cell_type": "code",
   "execution_count": 12,
   "id": "9281f9ce",
   "metadata": {},
   "outputs": [],
   "source": [
    "dic = corpora.Dictionary.load_from_text(root + 'dictionary21years')"
   ]
  },
  {
   "cell_type": "code",
   "execution_count": 61,
   "id": "5c9bc80c",
   "metadata": {},
   "outputs": [],
   "source": [
    "years = 2000\n",
    "yeare = 2021\n",
    "\n",
    "dic = corpora.Dictionary()\n",
    "for year in range(years, yeare+1):\n",
    "    text_dic = {}\n",
    "    # extract text for one year\n",
    "    for item in (['item1', 'item1A']):\n",
    "        for qtr in (['QTR1','QTR2','QTR3','QTR4']):\n",
    "            pre = root + \"\\\\\" + str(year) + \"\\\\\" + item + \"\\\\\" + qtr + \"\\\\\"\n",
    "            filelist = os.listdir(pre)\n",
    "            for file in filelist:\n",
    "                cik = get_cik(file)\n",
    "                if (cik in comp_set):\n",
    "                    if (cik not in text_dic.keys()):\n",
    "                        text_dic[cik] = \"\"\n",
    "                    text_dic[cik] += get_text(pre+file)\n",
    "    \n",
    "    doc_clean = []\n",
    "    for cik, text in text_dic.items():\n",
    "        doc_clean.append(clean(text).split())\n",
    "    dic.add_documents(doc_clean)\n",
    "    "
   ]
  },
  {
   "cell_type": "code",
   "execution_count": 13,
   "id": "d3826f71",
   "metadata": {},
   "outputs": [
    {
     "data": {
      "text/plain": [
       "161867"
      ]
     },
     "execution_count": 13,
     "metadata": {},
     "output_type": "execute_result"
    }
   ],
   "source": [
    "len(dic)"
   ]
  },
  {
   "cell_type": "code",
   "execution_count": 25,
   "id": "c6200100",
   "metadata": {},
   "outputs": [
    {
     "data": {
      "text/plain": [
       "46382"
      ]
     },
     "execution_count": 25,
     "metadata": {},
     "output_type": "execute_result"
    }
   ],
   "source": [
    "dic.filter_extremes(no_below=5, no_above=0.9)\n",
    "len(dic)"
   ]
  },
  {
   "cell_type": "code",
   "execution_count": 16,
   "id": "59d4d093",
   "metadata": {},
   "outputs": [],
   "source": [
    "dic.save_as_text(root+\"dic-no_belo\")"
   ]
  },
  {
   "cell_type": "markdown",
   "id": "ca34dda8",
   "metadata": {},
   "source": [
    "# run model"
   ]
  },
  {
   "cell_type": "code",
   "execution_count": 26,
   "id": "2fa93172",
   "metadata": {},
   "outputs": [],
   "source": [
    "Lda = gensim.models.ldamodel.LdaModel"
   ]
  },
  {
   "cell_type": "code",
   "execution_count": 57,
   "id": "ed8972e8",
   "metadata": {},
   "outputs": [
    {
     "name": "stdout",
     "output_type": "stream",
     "text": [
      "2000 completed\n",
      "2001 completed\n",
      "2002 completed\n",
      "2003 completed\n",
      "2004 completed\n",
      "2005 completed\n",
      "2006 completed\n",
      "2007 completed\n",
      "2008 completed\n",
      "2009 completed\n",
      "2010 completed\n",
      "2011 completed\n",
      "2012 completed\n",
      "2013 completed\n",
      "2014 completed\n",
      "2015 completed\n",
      "2016 completed\n",
      "2017 completed\n",
      "2018 completed\n",
      "2019 completed\n",
      "2020 completed\n",
      "2021 completed\n"
     ]
    }
   ],
   "source": [
    "years = 2000\n",
    "yeare = 2021\n",
    "num_topic = 50\n",
    "lda = Lda(id2word=dic, num_topics=num_topic)\n",
    "perplexity = []\n",
    "for year in range(years, yeare+1):\n",
    "    text_dic = {}\n",
    "    # extract text for one year\n",
    "    for item in (['item1', 'item1A']):\n",
    "        for qtr in (['QTR1','QTR2','QTR3','QTR4']):\n",
    "            pre = root + \"\\\\\" + str(year) + \"\\\\\" + item + \"\\\\\" + qtr + \"\\\\\"\n",
    "            filelist = os.listdir(pre)\n",
    "            for file in filelist:\n",
    "                cik = get_cik(file)\n",
    "                if (cik in comp_set):\n",
    "                    if (cik not in text_dic.keys()):\n",
    "                        text_dic[cik] = \"\"\n",
    "                    text_dic[cik] += get_text(pre+file)\n",
    "    \n",
    "    doc_clean = []\n",
    "    for cik, text in text_dic.items():\n",
    "        doc_clean.append(clean(text))\n",
    "    doc_term_matrix = [dic.doc2bow(doc) for doc in doc_clean]\n",
    "    lda.update(doc_term_matrix, passes=20)\n",
    "    perplexity.append(lda.log_perplexity(doc_term_matrix))\n",
    "    \n",
    "    print(str(year) + \" completed\")"
   ]
  },
  {
   "cell_type": "code",
   "execution_count": 58,
   "id": "c518978d",
   "metadata": {},
   "outputs": [],
   "source": [
    "topics = lda.show_topics()"
   ]
  },
  {
   "cell_type": "code",
   "execution_count": 59,
   "id": "14ca7a56",
   "metadata": {},
   "outputs": [],
   "source": [
    "from gensim.test.utils import datapath\n",
    "tmp_path = datapath(root+\"models\\\\\"+\"model-\"+str(num_topic))\n",
    "lda.save(tmp_path)"
   ]
  },
  {
   "cell_type": "code",
   "execution_count": 24,
   "id": "b31c4718",
   "metadata": {},
   "outputs": [
    {
     "ename": "NameError",
     "evalue": "name 'perplexity' is not defined",
     "output_type": "error",
     "traceback": [
      "\u001b[1;31m---------------------------------------------------------------------------\u001b[0m",
      "\u001b[1;31mNameError\u001b[0m                                 Traceback (most recent call last)",
      "\u001b[1;32m<ipython-input-24-28f719e6de73>\u001b[0m in \u001b[0;36m<module>\u001b[1;34m\u001b[0m\n\u001b[0;32m      1\u001b[0m \u001b[1;31m#20: -204.82381584048713\u001b[0m\u001b[1;33m\u001b[0m\u001b[1;33m\u001b[0m\u001b[1;33m\u001b[0m\u001b[0m\n\u001b[1;32m----> 2\u001b[1;33m \u001b[0msum\u001b[0m\u001b[1;33m(\u001b[0m\u001b[0mperplexity\u001b[0m\u001b[1;33m)\u001b[0m\u001b[1;33m\u001b[0m\u001b[1;33m\u001b[0m\u001b[0m\n\u001b[0m",
      "\u001b[1;31mNameError\u001b[0m: name 'perplexity' is not defined"
     ]
    }
   ],
   "source": [
    "#20: -204.82381584048713\n",
    "#50: -246.23196211337986\n",
    "#80: -292.6027305910056\n",
    "#100:\n",
    "#110:-345.1356522041037\n",
    "#150:-412.9358242525766\n"
   ]
  },
  {
   "cell_type": "markdown",
   "id": "bbec7d8a",
   "metadata": {},
   "source": [
    "# load"
   ]
  },
  {
   "cell_type": "code",
   "execution_count": 50,
   "id": "ffa95daf",
   "metadata": {},
   "outputs": [
    {
     "name": "stdout",
     "output_type": "stream",
     "text": [
      "C:\\Users\\lin\\Box\\Yijun-Jingya\\10-K match content\\models\\model-100\n"
     ]
    }
   ],
   "source": [
    "tmp_path = datapath(root+\"models\\\\\"+\"model-100\")\n",
    "# tmp_path = datapath(root+\"models\\\\model-80\")\n",
    "print(tmp_path)\n",
    "lda = Lda.load(tmp_path, mmap='r')\n"
   ]
  },
  {
   "cell_type": "code",
   "execution_count": 60,
   "id": "e6c27533",
   "metadata": {},
   "outputs": [
    {
     "data": {
      "text/plain": [
       "[(0,\n",
       "  '0.028*\"manufacturing\" + 0.020*\"design\" + 0.018*\"component\" + 0.016*\"technology\" + 0.016*\"supply\" + 0.013*\"supplier\" + 0.011*\"manufacturer\" + 0.011*\"order\" + 0.011*\"inventory\" + 0.011*\"demand\"'),\n",
       " (1,\n",
       "  '0.439*\"dental\" + 0.165*\"consumable\" + 0.151*\"mercury\" + 0.117*\"philippine\" + 0.000*\"pursing\" + 0.000*\"otte\" + 0.000*\"mp34\" + 0.000*\"shirley\" + 0.000*\"mondry\" + 0.000*\"wwwmicroncom\"'),\n",
       " (2,\n",
       "  '0.000*\"pursing\" + 0.000*\"roderic\" + 0.000*\"durcan\" + 0.000*\"hawkins\" + 0.000*\"marketingeconomics\" + 0.000*\"mche\" + 0.000*\"megapixel\" + 0.000*\"mondry\" + 0.000*\"mp34\" + 0.000*\"otte\"'),\n",
       " (3,\n",
       "  '0.539*\"mineral\" + 0.133*\"coal\" + 0.069*\"drill\" + 0.054*\"walking\" + 0.000*\"marketingeconomics\" + 0.000*\"mondry\" + 0.000*\"megapixel\" + 0.000*\"otte\" + 0.000*\"roderic\" + 0.000*\"mche\"'),\n",
       " (4,\n",
       "  '0.730*\"optical\" + 0.096*\"tension\" + 0.038*\"diagnose\" + 0.022*\"electron\" + 0.020*\"geospatial\" + 0.008*\"important\" + 0.003*\"imagery\" + 0.003*\"corning\" + 0.000*\"otte\" + 0.000*\"shirley\"'),\n",
       " (5,\n",
       "  '0.186*\"fiscal\" + 0.044*\"margin\" + 0.041*\"lower\" + 0.037*\"net\" + 0.035*\"profit\" + 0.032*\"restructuring\" + 0.031*\"recorded\" + 0.030*\"lender\" + 0.026*\"change\" + 0.024*\"increased\"'),\n",
       " (6,\n",
       "  '0.000*\"pursing\" + 0.000*\"roderic\" + 0.000*\"durcan\" + 0.000*\"hawkins\" + 0.000*\"marketingeconomics\" + 0.000*\"mche\" + 0.000*\"megapixel\" + 0.000*\"mondry\" + 0.000*\"mp34\" + 0.000*\"otte\"'),\n",
       " (7,\n",
       "  '0.086*\"officer\" + 0.083*\"executive\" + 0.066*\"president\" + 0.048*\"chief\" + 0.046*\"vice\" + 0.041*\"mr\" + 0.031*\"served\" + 0.031*\"director\" + 0.027*\"board\" + 0.024*\"prior\"'),\n",
       " (8,\n",
       "  '0.035*\"acquisition\" + 0.034*\"transaction\" + 0.034*\"segment\" + 0.030*\"merger\" + 0.026*\"form\" + 0.017*\"10k\" + 0.015*\"senior\" + 0.014*\"subsidiary\" + 0.013*\"april\" + 0.013*\"factor\"'),\n",
       " (9,\n",
       "  '0.000*\"pursing\" + 0.000*\"roderic\" + 0.000*\"durcan\" + 0.000*\"hawkins\" + 0.000*\"marketingeconomics\" + 0.000*\"mche\" + 0.000*\"megapixel\" + 0.000*\"mondry\" + 0.000*\"mp34\" + 0.000*\"otte\"')]"
      ]
     },
     "execution_count": 60,
     "metadata": {},
     "output_type": "execute_result"
    }
   ],
   "source": [
    "lda.show_topics(-1)[:10]"
   ]
  },
  {
   "cell_type": "code",
   "execution_count": 53,
   "id": "b1f9234b",
   "metadata": {},
   "outputs": [
    {
     "name": "stdout",
     "output_type": "stream",
     "text": [
      "2000 completed\n",
      "2001 completed\n",
      "2002 completed\n",
      "2003 completed\n",
      "2004 completed\n",
      "2005 completed\n",
      "2006 completed\n",
      "2007 completed\n",
      "2008 completed\n",
      "2009 completed\n",
      "2010 completed\n",
      "2011 completed\n",
      "2012 completed\n",
      "2013 completed\n",
      "2014 completed\n",
      "2015 completed\n",
      "2016 completed\n",
      "2017 completed\n",
      "2018 completed\n",
      "2019 completed\n",
      "2020 completed\n",
      "2021 completed\n"
     ]
    }
   ],
   "source": [
    "years = 2000\n",
    "yeare = 2021\n",
    "topic_dic = {}\n",
    "\n",
    "\n",
    "for year in range(years, yeare+1):\n",
    "    topic_dic[year] = {}\n",
    "    text_dic = {}\n",
    "    # extract text for one year\n",
    "    for item in (['item1', 'item1A']):\n",
    "        for qtr in (['QTR1','QTR2','QTR3','QTR4']):\n",
    "            pre = root + str(year) + \"\\\\\" + item + \"\\\\\" + qtr + \"\\\\\"\n",
    "            filelist = os.listdir(pre)\n",
    "            for file in filelist:\n",
    "                cik = get_cik(file)\n",
    "                if (cik in comp_set):\n",
    "                    if (cik not in text_dic.keys()):\n",
    "                        text_dic[cik] = \"\"\n",
    "                    text_dic[cik] += get_text(pre+file)\n",
    "    \n",
    "\n",
    "    for cik, text in text_dic.items():\n",
    "        doc_matrix = dic.doc2bow(text.split())\n",
    "        topic_dic[year][cik] = lda.get_document_topics(bow=doc_matrix, minimum_probability=0)\n",
    "    print(str(year) + \" completed\")"
   ]
  },
  {
   "cell_type": "code",
   "execution_count": 54,
   "id": "678577ee",
   "metadata": {},
   "outputs": [
    {
     "name": "stdout",
     "output_type": "stream",
     "text": [
      "100\n"
     ]
    }
   ],
   "source": [
    "topics = lda.print_topics(num_topics=-1)\n",
    "num_topic = len(topics)\n",
    "print(num_topic)\n",
    "with open(root+'result\\\\word_distribution-' + str(num_topic) + '.csv', 'w') as csvfile:\n",
    "    writer = csv.writer(csvfile)\n",
    "    # header = []\n",
    "    # i = 0\n",
    "    # for topic in topics:\n",
    "    #   header.append(\"topic\"+str(i+1)+\"word\")\n",
    "    for topic in topics:\n",
    "        oneline = []\n",
    "        oneline2 = []\n",
    "        oneline.append(\"topic\"+str(topic[0]+1)+\"_word\")\n",
    "        oneline2.append(\"topic\"+str(topic[0]+1)+\"_distribution\")\n",
    "        content = topic[1].split('+')\n",
    "        for oneword in content:\n",
    "            ratio, word = oneword.split('*')\n",
    "            word = word.replace('\"', '')\n",
    "            oneline.append(word)\n",
    "            oneline2.append(ratio)\n",
    "        writer.writerow(oneline)\n",
    "        writer.writerow(oneline2)"
   ]
  },
  {
   "cell_type": "code",
   "execution_count": 55,
   "id": "1c2cf8cf",
   "metadata": {},
   "outputs": [],
   "source": [
    "cols = {}\n",
    "val = ['gvkey', 'fyear', 'tic', 'cusip', 'conm', 'cik', 'naics', 'sic']\n",
    "\n",
    "\n",
    "with open(root + \"00-21 company list.csv\", 'r') as f:\n",
    "    reader = csv.DictReader(f)\n",
    "    for row in reader:\n",
    "        if (row['cik'] == ''):\n",
    "            continue\n",
    "        cik = int(row['cik'])\n",
    "        year = int(row['fyear'])\n",
    "        newRow = {}\n",
    "        for k in val:\n",
    "            newRow[k] = row[k]\n",
    "        if cik not in cols.keys():\n",
    "            cols[cik] = newRow\n"
   ]
  },
  {
   "cell_type": "code",
   "execution_count": 56,
   "id": "e5d4034c",
   "metadata": {
    "scrolled": true
   },
   "outputs": [],
   "source": [
    "import csv\n",
    "\n",
    "with open(root+ 'result\\\\topic_disctribution'+ str(num_topic) + '.csv', 'w') as csvfile:\n",
    "    writer = csv.DictWriter(csvfile, fieldnames=val + [(\"topic\"+str(i+1)) for i in range(num_topic)])\n",
    "    writer.writeheader()\n",
    "    for year in range(2000, 2022):\n",
    "        for cik, l in topic_dic[year].items():\n",
    "            oneline = {}\n",
    "            oneline.update(cols[cik])\n",
    "            oneline['fyear'] = year\n",
    "            for topic, ratio in l:\n",
    "                oneline[\"topic\"+str(topic+1)] = ratio\n",
    "\n",
    "            writer.writerow(oneline)"
   ]
  },
  {
   "cell_type": "code",
   "execution_count": 144,
   "id": "90337f25",
   "metadata": {},
   "outputs": [
    {
     "name": "stdout",
     "output_type": "stream",
     "text": [
      "2000\n"
     ]
    }
   ],
   "source": [
    "for year in range(2000,2022):\n",
    "    if 87050 in topic_dic[year].keys():\n",
    "        print(year)"
   ]
  },
  {
   "cell_type": "code",
   "execution_count": 78,
   "id": "d166e2a2",
   "metadata": {},
   "outputs": [
    {
     "data": {
      "text/plain": [
       "[-1]"
      ]
     },
     "execution_count": 78,
     "metadata": {},
     "output_type": "execute_result"
    }
   ],
   "source": [
    "dic.doc2idx(['11229'])"
   ]
  },
  {
   "cell_type": "code",
   "execution_count": 145,
   "id": "569d7237",
   "metadata": {},
   "outputs": [
    {
     "name": "stdout",
     "output_type": "stream",
     "text": [
      "C:\\Users\\lin\\Box\\Yijun-Jingya\\10-K match content\\models\\model-20\n"
     ]
    }
   ],
   "source": [
    "tmp_path = datapath(root+\"models\\\\\"+\"model-\" + str(20))\n",
    "# tmp_path = datapath(root+\"models\\\\model-80\")\n",
    "print(tmp_path)\n",
    "lda = Lda.load(tmp_path, mmap='r')"
   ]
  },
  {
   "cell_type": "code",
   "execution_count": null,
   "id": "54495202",
   "metadata": {},
   "outputs": [],
   "source": []
  },
  {
   "cell_type": "markdown",
   "id": "89ce872d",
   "metadata": {},
   "source": [
    "## topic model for 2530sample.csv"
   ]
  },
  {
   "cell_type": "code",
   "execution_count": 6,
   "id": "5a2460a9",
   "metadata": {},
   "outputs": [],
   "source": [
    "folder=\"C:\\\\Users\\\\lin\\\\Box\\\\Yijun-Jingya\\\\Startup sample\\\\\""
   ]
  },
  {
   "cell_type": "code",
   "execution_count": 57,
   "id": "bf2cb4c4",
   "metadata": {},
   "outputs": [],
   "source": [
    "data = []\n",
    "with open(folder+\"2530sample.csv\", 'r',encoding='utf-8') as f:\n",
    "    reader = csv.DictReader(f)\n",
    "    for row in reader:\n",
    "        data.append(row)"
   ]
  },
  {
   "cell_type": "code",
   "execution_count": 58,
   "id": "ca0f3c26",
   "metadata": {},
   "outputs": [
    {
     "data": {
      "text/plain": [
       "2530"
      ]
     },
     "execution_count": 58,
     "metadata": {},
     "output_type": "execute_result"
    }
   ],
   "source": [
    "len(data)"
   ]
  },
  {
   "cell_type": "code",
   "execution_count": 94,
   "id": "55fdb7cd",
   "metadata": {},
   "outputs": [],
   "source": [
    "dic = corpora.Dictionary()\n",
    "doc_clean = []\n",
    "for row in data:\n",
    "    doc_clean.append(clean(row['a_description']))\n",
    "dic.add_documents(doc_clean)\n"
   ]
  },
  {
   "cell_type": "code",
   "execution_count": 95,
   "id": "8adbf0a1",
   "metadata": {},
   "outputs": [
    {
     "name": "stdout",
     "output_type": "stream",
     "text": [
      "10106\n",
      "4634\n"
     ]
    }
   ],
   "source": [
    "print(len(dic))\n",
    "dic.filter_extremes(no_below=2, no_above=0.9)\n",
    "dic.filter_tokens(bad_ids=[dic.token2id['also'], dic.token2id['inc']])\n",
    "print(len(dic))\n",
    "Lda = gensim.models.ldamodel.LdaModel\n",
    "doc_term_matrix = [dic.doc2bow(doc) for doc in doc_clean]"
   ]
  },
  {
   "cell_type": "code",
   "execution_count": 86,
   "id": "d19231fe",
   "metadata": {},
   "outputs": [
    {
     "name": "stdout",
     "output_type": "stream",
     "text": [
      "-7.075697486053889\n"
     ]
    }
   ],
   "source": [
    "num_topic = 10\n",
    "lda = Lda(corpus=doc_term_matrix, iterations=100, id2word=dic, num_topics=num_topic)\n",
    "print(lda.log_perplexity(doc_term_matrix))"
   ]
  },
  {
   "cell_type": "code",
   "execution_count": 71,
   "id": "0b721a23",
   "metadata": {},
   "outputs": [
    {
     "name": "stdout",
     "output_type": "stream",
     "text": [
      "-6.813486178108031\n"
     ]
    }
   ],
   "source": [
    "num_topic = 15\n",
    "lda = Lda(id2word=dic, num_topics=num_topic)\n",
    "lda.update(doc_term_matrix, passes=20)\n",
    "print(lda.log_perplexity(doc_term_matrix))"
   ]
  },
  {
   "cell_type": "code",
   "execution_count": 91,
   "id": "870595ab",
   "metadata": {},
   "outputs": [],
   "source": [
    "from gensim.test.utils import datapath\n",
    "tmp_path = datapath(folder+\"model\\\\\"+\"model-\"+str(num_topic))\n",
    "lda.save(tmp_path)"
   ]
  },
  {
   "cell_type": "code",
   "execution_count": 75,
   "id": "dbf561d9",
   "metadata": {},
   "outputs": [
    {
     "name": "stdout",
     "output_type": "stream",
     "text": [
      "-6.852714428905515\n"
     ]
    }
   ],
   "source": [
    "num_topic = 20\n",
    "lda = Lda(id2word=dic, num_topics=num_topic)\n",
    "lda.update(doc_term_matrix, passes=20)\n",
    "print(lda.log_perplexity(doc_term_matrix))"
   ]
  },
  {
   "cell_type": "code",
   "execution_count": 87,
   "id": "27de1e8d",
   "metadata": {},
   "outputs": [
    {
     "name": "stdout",
     "output_type": "stream",
     "text": [
      "10\n"
     ]
    }
   ],
   "source": [
    "topics = lda.print_topics(num_topics=-1)\n",
    "num_topic = len(topics)\n",
    "print(num_topic)\n",
    "with open(folder+'word_distribution-' + str(num_topic) + '.csv', 'w') as csvfile:\n",
    "    writer = csv.writer(csvfile)\n",
    "    for topic in topics:\n",
    "        oneline = []\n",
    "        oneline2 = []\n",
    "        oneline.append(\"topic\"+str(topic[0]+1)+\"_word\")\n",
    "        oneline2.append(\"topic\"+str(topic[0]+1)+\"_distribution\")\n",
    "        content = topic[1].split('+')\n",
    "        for oneword in content:\n",
    "            ratio, word = oneword.split('*')\n",
    "            word = word.replace('\"', '')\n",
    "            oneline.append(word)\n",
    "            oneline2.append(ratio)\n",
    "        writer.writerow(oneline)\n",
    "        writer.writerow(oneline2)"
   ]
  },
  {
   "cell_type": "code",
   "execution_count": 88,
   "id": "7ae28120",
   "metadata": {},
   "outputs": [],
   "source": [
    "with open(folder+ 'topic_disctribution'+ str(num_topic) + '.csv', 'w',encoding='utf-8') as csvfile:\n",
    "    writer = csv.DictWriter(csvfile, fieldnames=list(data[0].keys()) + [(\"topic\"+str(i+1)) for i in range(num_topic)])\n",
    "    writer.writeheader()\n",
    "    c = 0\n",
    "    \n",
    "    for row in data:\n",
    "        onedoc = clean(row['a_description'])\n",
    "        onemat = dic.doc2bow(onedoc)\n",
    "        lis = lda.get_document_topics(bow=onemat, minimum_probability=0)\n",
    "        for topic, prob in lis:\n",
    "            row[\"topic\"+str(topic+1)] = prob\n",
    "        writer.writerow(row)"
   ]
  },
  {
   "cell_type": "code",
   "execution_count": 63,
   "id": "7c40779b",
   "metadata": {},
   "outputs": [
    {
     "data": {
      "text/plain": [
       "2530"
      ]
     },
     "execution_count": 63,
     "metadata": {},
     "output_type": "execute_result"
    }
   ],
   "source": [
    "c"
   ]
  },
  {
   "cell_type": "code",
   "execution_count": 82,
   "id": "fe283691",
   "metadata": {},
   "outputs": [
    {
     "name": "stdout",
     "output_type": "stream",
     "text": [
      "currently training 5\n",
      "currently training 6\n",
      "currently training 7\n",
      "currently training 8\n",
      "currently training 9\n",
      "currently training 10\n",
      "currently training 11\n",
      "currently training 12\n",
      "currently training 13\n",
      "currently training 14\n",
      "currently training 15\n",
      "currently training 16\n",
      "currently training 17\n",
      "currently training 18\n",
      "currently training 19\n",
      "currently training 20\n",
      "currently training 21\n",
      "currently training 22\n",
      "currently training 23\n",
      "currently training 24\n",
      "currently training 25\n"
     ]
    }
   ],
   "source": [
    "perplexity = []\n",
    "\n",
    "for num_topic in range(5, 26):\n",
    "    print(\"currently training \"+str(num_topic))\n",
    "    lda = Lda(corpus=doc_term_matrix, iterations=100, id2word=dic, num_topics=num_topic)\n",
    "    perp = lda.log_perplexity(doc_term_matrix)\n",
    "    perplexity.append(perp)\n"
   ]
  },
  {
   "cell_type": "code",
   "execution_count": 89,
   "id": "5a2399bf",
   "metadata": {},
   "outputs": [
    {
     "name": "stdout",
     "output_type": "stream",
     "text": [
      "currently training 2\n",
      "currently training 3\n",
      "currently training 4\n"
     ]
    }
   ],
   "source": [
    "front = []\n",
    "for num_topic in range(2, 5):\n",
    "    print(\"currently training \"+str(num_topic))\n",
    "    lda = Lda(corpus=doc_term_matrix, iterations=100, id2word=dic, num_topics=num_topic)\n",
    "    perp = lda.log_perplexity(doc_term_matrix)\n",
    "    front.append(perp)"
   ]
  },
  {
   "cell_type": "code",
   "execution_count": 90,
   "id": "806fea8f",
   "metadata": {},
   "outputs": [
    {
     "data": {
      "text/plain": [
       "<function matplotlib.pyplot.show(close=None, block=None)>"
      ]
     },
     "execution_count": 90,
     "metadata": {},
     "output_type": "execute_result"
    },
    {
     "data": {
      "image/png": "[encoded data removed]",
      "text/plain": [
       "<Figure size 432x288 with 1 Axes>"
      ]
     },
     "metadata": {
      "needs_background": "light"
     },
     "output_type": "display_data"
    }
   ],
   "source": [
    "import matplotlib.pyplot as plt\n",
    "plt.plot(range(2,26), np.exp2(-np.array(front+perplexity)), 'o-')\n",
    "plt.xticks(range(2,26))\n",
    "plt.xlabel('num topic')\n",
    "plt.ylabel('perplexities')\n",
    "plt.show"
   ]
  },
  {
   "cell_type": "code",
   "execution_count": null,
   "id": "cf0de6a8",
   "metadata": {},
   "outputs": [],
   "source": []
  },
  {
   "cell_type": "code",
   "execution_count": 85,
   "id": "30aaa291",
   "metadata": {},
   "outputs": [
    {
     "data": {
      "text/plain": [
       "2530"
      ]
     },
     "execution_count": 85,
     "metadata": {},
     "output_type": "execute_result"
    }
   ],
   "source": [
    "len(doc_term_matrix)"
   ]
  },
  {
   "cell_type": "code",
   "execution_count": null,
   "id": "dbda7e62",
   "metadata": {},
   "outputs": [],
   "source": []
  },
  {
   "cell_type": "markdown",
   "id": "89dbb900",
   "metadata": {},
   "source": [
    "## companies"
   ]
  },
  {
   "cell_type": "code",
   "execution_count": 6,
   "id": "57dde716",
   "metadata": {},
   "outputs": [],
   "source": [
    "import pandas as pd\n",
    "from gensim.test.utils import datapath\n",
    "Lda = gensim.models.ldamodel.LdaModel"
   ]
  },
  {
   "cell_type": "code",
   "execution_count": 7,
   "id": "7fee0c20",
   "metadata": {},
   "outputs": [],
   "source": [
    "folder=\"C:\\\\Users\\\\lin\\\\Box\\\\Yijun-Jingya\\\\Startup sample\\\\\""
   ]
  },
  {
   "cell_type": "code",
   "execution_count": 8,
   "id": "b1d8c369",
   "metadata": {},
   "outputs": [],
   "source": [
    "sampledata = []\n",
    "with open(folder+\"2530sample.csv\", 'r',encoding='utf-8') as f:\n",
    "    reader = csv.DictReader(f)\n",
    "    for row in reader:\n",
    "        sampledata.append(row)"
   ]
  },
  {
   "cell_type": "code",
   "execution_count": 17,
   "id": "cdc96aaa",
   "metadata": {},
   "outputs": [],
   "source": [
    "df = pd.read_stata(folder+'Company.dta',columns=['companyname', 'description'])     "
   ]
  },
  {
   "cell_type": "code",
   "execution_count": 18,
   "id": "d09d9573",
   "metadata": {},
   "outputs": [],
   "source": [
    "data = df.values"
   ]
  },
  {
   "cell_type": "code",
   "execution_count": 10,
   "id": "1f0895f9",
   "metadata": {},
   "outputs": [],
   "source": [
    "phrases = [\"real estate\", \"3D print\", \"artificial intelligence\", \"machine learning\", \"information technology\", \"information system\"]"
   ]
  },
  {
   "cell_type": "code",
   "execution_count": 11,
   "id": "a5454938",
   "metadata": {},
   "outputs": [
    {
     "data": {
      "text/plain": [
       "'dsad real\\x07estate 3d\\x07print asdasd'"
      ]
     },
     "execution_count": 11,
     "metadata": {},
     "output_type": "execute_result"
    }
   ],
   "source": [
    "def keepPhrase(doc, phrases):\n",
    "    doc = doc.lower()\n",
    "    for ph in phrases:\n",
    "        ph = ph.lower()\n",
    "        repl = ph.replace(\" \", \"\\a\")\n",
    "        doc = doc.replace(ph, repl)\n",
    "    return doc\n",
    "    \n",
    "keepPhrase(\"dsad real estate 3D print asdasd\", phrases)"
   ]
  },
  {
   "cell_type": "code",
   "execution_count": 30,
   "id": "b35b67cd",
   "metadata": {},
   "outputs": [],
   "source": [
    "dic = corpora.Dictionary()\n",
    "doc_clean = []\n",
    "for row in data:\n",
    "    doc_clean.append(clean(keepPhrase(row[1], phrases)))\n",
    "dic.add_documents(doc_clean)"
   ]
  },
  {
   "cell_type": "code",
   "execution_count": 49,
   "id": "0c5c7f7a",
   "metadata": {},
   "outputs": [
    {
     "data": {
      "text/plain": [
       "[155, 92, 45]"
      ]
     },
     "execution_count": 49,
     "metadata": {},
     "output_type": "execute_result"
    }
   ],
   "source": [
    "toremoved = ['inc','also','enabling', 'include', 'intended']\n",
    "badids = []\n",
    "for w in toremoved:\n",
    "    try:\n",
    "        badids.append(dic.token2id[w])\n",
    "    except:\n",
    "        pass\n",
    "        \n",
    "badids"
   ]
  },
  {
   "cell_type": "code",
   "execution_count": 50,
   "id": "a5c6462f",
   "metadata": {},
   "outputs": [
    {
     "name": "stdout",
     "output_type": "stream",
     "text": [
      "33471\n",
      "33468\n"
     ]
    }
   ],
   "source": [
    "print(len(dic))\n",
    "dic.filter_extremes(no_below=5, no_above=0.9)\n",
    "dic.filter_tokens(bad_ids=badids)\n",
    "print(len(dic))\n",
    "\n",
    "doc_term_matrix = [dic.doc2bow(doc) for doc in doc_clean]"
   ]
  },
  {
   "cell_type": "code",
   "execution_count": 36,
   "id": "3ef95f6b",
   "metadata": {},
   "outputs": [
    {
     "data": {
      "text/plain": [
       "958"
      ]
     },
     "execution_count": 36,
     "metadata": {},
     "output_type": "execute_result"
    }
   ],
   "source": [
    "dic.token2id['3d']"
   ]
  },
  {
   "cell_type": "code",
   "execution_count": 64,
   "id": "4f8a03f8",
   "metadata": {},
   "outputs": [
    {
     "name": "stdout",
     "output_type": "stream",
     "text": [
      "-8.94411369828167\n",
      "15\n",
      "-9.402660178934346\n",
      "20\n",
      "-9.81473472112071\n",
      "25\n"
     ]
    }
   ],
   "source": [
    "for num_topic in [15,20,25]:\n",
    "    lda = Lda(corpus=doc_term_matrix, iterations=100, id2word=dic, num_topics=num_topic)\n",
    "    print(lda.log_perplexity(doc_term_matrix))\n",
    "    topics = lda.print_topics(num_topics=-1)\n",
    "    num_topic = len(topics)\n",
    "    print(num_topic)\n",
    "    \n",
    "    tmp_path = datapath(folder+\"model\\\\\"+\"model-phrase-\"+str(num_topic))\n",
    "    lda.save(tmp_path)\n",
    "    with open(folder+'word_distribution-company.dta-' + str(num_topic) + '.csv', 'w') as csvfile:\n",
    "        writer = csv.writer(csvfile)\n",
    "        for topic in topics:\n",
    "            oneline = []\n",
    "            oneline2 = []\n",
    "            oneline.append(\"topic\"+str(topic[0]+1)+\"_word\")\n",
    "            oneline2.append(\"topic\"+str(topic[0]+1)+\"_distribution\")\n",
    "            content = topic[1].split('+')\n",
    "            for oneword in content:\n",
    "                ratio, word = oneword.split('*')\n",
    "                word = word.replace('\"', '')\n",
    "                oneline.append(word)\n",
    "                oneline2.append(ratio)\n",
    "            writer.writerow(oneline)\n",
    "            writer.writerow(oneline2)\n",
    "            \n",
    "    with open(folder+ 'topic_disctribution-company.dta-'+ str(num_topic) + '.csv', 'w',encoding='utf-8') as csvfile:\n",
    "        writer = csv.DictWriter(csvfile, fieldnames=['companyname'] + [(\"topic\"+str(i+1)) for i in range(num_topic)])\n",
    "        writer.writeheader()\n",
    "        c = 0\n",
    "\n",
    "        for row in data:\n",
    "            oneline = {}\n",
    "            oneline['companyname'] = row[0]\n",
    "            onedoc = clean(keepPhrase(row[1], phrases))\n",
    "            onemat = dic.doc2bow(onedoc)\n",
    "            lis = lda.get_document_topics(bow=onemat, minimum_probability=0)\n",
    "            for topic, prob in lis:\n",
    "                oneline[\"topic\"+str(topic+1)] = prob\n",
    "            writer.writerow(oneline)"
   ]
  },
  {
   "cell_type": "code",
   "execution_count": 63,
   "id": "8a7a6564",
   "metadata": {},
   "outputs": [],
   "source": []
  },
  {
   "cell_type": "code",
   "execution_count": 57,
   "id": "398427e6",
   "metadata": {},
   "outputs": [
    {
     "name": "stdout",
     "output_type": "stream",
     "text": [
      "-9.82768388023049\n"
     ]
    }
   ],
   "source": [
    "num_topic = 25\n"
   ]
  },
  {
   "cell_type": "code",
   "execution_count": 53,
   "id": "af58fea9",
   "metadata": {},
   "outputs": [
    {
     "name": "stdout",
     "output_type": "stream",
     "text": [
      "-9.392690481612858\n"
     ]
    }
   ],
   "source": [
    "num_topic = 20\n",
    "lda = Lda(corpus=doc_term_matrix, iterations=100, id2word=dic, num_topics=num_topic)\n",
    "print(lda.log_perplexity(doc_term_matrix))"
   ]
  },
  {
   "cell_type": "code",
   "execution_count": 39,
   "id": "59da7907",
   "metadata": {},
   "outputs": [],
   "source": []
  },
  {
   "cell_type": "code",
   "execution_count": 58,
   "id": "740dc6cf",
   "metadata": {},
   "outputs": [
    {
     "name": "stdout",
     "output_type": "stream",
     "text": [
      "25\n"
     ]
    }
   ],
   "source": [
    "topics = lda.print_topics(num_topics=-1)\n",
    "num_topic = len(topics)\n",
    "print(num_topic)\n",
    "with open(folder+'word_distribution-company.dta-' + str(num_topic) + '.csv', 'w') as csvfile:\n",
    "    writer = csv.writer(csvfile)\n",
    "    for topic in topics:\n",
    "        oneline = []\n",
    "        oneline2 = []\n",
    "        oneline.append(\"topic\"+str(topic[0]+1)+\"_word\")\n",
    "        oneline2.append(\"topic\"+str(topic[0]+1)+\"_distribution\")\n",
    "        content = topic[1].split('+')\n",
    "        for oneword in content:\n",
    "            ratio, word = oneword.split('*')\n",
    "            word = word.replace('\"', '')\n",
    "            oneline.append(word)\n",
    "            oneline2.append(ratio)\n",
    "        writer.writerow(oneline)\n",
    "        writer.writerow(oneline2)"
   ]
  },
  {
   "cell_type": "code",
   "execution_count": 44,
   "id": "e2a00679",
   "metadata": {},
   "outputs": [
    {
     "name": "stdout",
     "output_type": "stream",
     "text": [
      "currently training 5\n",
      "currently training 6\n",
      "currently training 7\n",
      "currently training 8\n",
      "currently training 9\n",
      "currently training 10\n",
      "currently training 11\n",
      "currently training 12\n",
      "currently training 13\n",
      "currently training 14\n",
      "currently training 15\n",
      "currently training 16\n",
      "currently training 17\n",
      "currently training 18\n",
      "currently training 19\n",
      "currently training 20\n",
      "currently training 21\n",
      "currently training 22\n",
      "currently training 23\n",
      "currently training 24\n",
      "currently training 25\n"
     ]
    }
   ],
   "source": [
    "perplexity = []\n",
    "\n",
    "for num_topic in range(5, 26):\n",
    "    print(\"currently training \"+str(num_topic))\n",
    "    lda = Lda(corpus=doc_term_matrix, iterations=100, id2word=dic, num_topics=num_topic)\n",
    "    perp = lda.log_perplexity(doc_term_matrix)\n",
    "    perplexity.append(perp)"
   ]
  },
  {
   "cell_type": "code",
   "execution_count": 46,
   "id": "72d32ce7",
   "metadata": {},
   "outputs": [
    {
     "data": {
      "text/plain": [
       "<function matplotlib.pyplot.show(close=None, block=None)>"
      ]
     },
     "execution_count": 46,
     "metadata": {},
     "output_type": "execute_result"
    },
    {
     "data": {
      "image/png": "[encoded data removed]",
      "text/plain": [
       "<Figure size 432x288 with 1 Axes>"
      ]
     },
     "metadata": {
      "needs_background": "light"
     },
     "output_type": "display_data"
    }
   ],
   "source": [
    "import matplotlib.pyplot as plt\n",
    "plt.plot(range(5,26), np.exp2(-np.array(perplexity)), 'o-')\n",
    "plt.xticks(range(5,26))\n",
    "plt.xlabel('num topic')\n",
    "plt.ylabel('perplexities')\n",
    "plt.show"
   ]
  },
  {
   "cell_type": "code",
   "execution_count": 18,
   "id": "73e542a7",
   "metadata": {},
   "outputs": [
    {
     "name": "stdout",
     "output_type": "stream",
     "text": [
      "C:\\Users\\lin\\Box\\Yijun-Jingya\\Startup sample\\model\\model-phrase-20\n"
     ]
    }
   ],
   "source": [
    "num_topic = 20\n",
    "tmp_path = datapath(folder+\"model\\\\\"+\"model-phrase-\"+str(num_topic))\n",
    "print(tmp_path)\n",
    "lda = Lda.load(tmp_path, mmap='r')\n"
   ]
  },
  {
   "cell_type": "code",
   "execution_count": 19,
   "id": "5a6b2244",
   "metadata": {},
   "outputs": [
    {
     "name": "stdout",
     "output_type": "stream",
     "text": [
      "20\n"
     ]
    }
   ],
   "source": [
    "topics = lda.print_topics(num_topics=-1)\n",
    "num_topic = len(topics)\n",
    "print(num_topic)\n",
    "with open(folder+'word_distribution-company.dta-' + str(num_topic) + '.csv', 'w') as csvfile:\n",
    "    writer = csv.writer(csvfile)\n",
    "    for topic in topics:\n",
    "        oneline = []\n",
    "        oneline2 = []\n",
    "        oneline.append(\"topic\"+str(topic[0]+1)+\"_word\")\n",
    "        oneline2.append(\"topic\"+str(topic[0]+1)+\"_distribution\")\n",
    "        content = topic[1].split('+')\n",
    "        for oneword in content:\n",
    "            ratio, word = oneword.split('*')\n",
    "            word = word.replace('\"', '')\n",
    "            oneline.append(word)\n",
    "            oneline2.append(ratio)\n",
    "        writer.writerow(oneline)\n",
    "        writer.writerow(oneline2)"
   ]
  },
  {
   "cell_type": "code",
   "execution_count": 20,
   "id": "def977cc",
   "metadata": {},
   "outputs": [],
   "source": [
    "\n",
    "with open(folder+ 'topic_disctribution-company.dta-'+ str(num_topic) + '.csv', 'w',encoding='utf-8') as csvfile:\n",
    "        writer = csv.DictWriter(csvfile, fieldnames=list(sampledata[0].keys()) + [(\"topic\"+str(i+1)) for i in range(num_topic)])\n",
    "        writer.writeheader()\n",
    "        c = 0\n",
    "\n",
    "        for row in sampledata:\n",
    "            onedoc = clean(keepPhrase(row[\"a_description\"], phrases))\n",
    "            onemat = dic.doc2bow(onedoc)\n",
    "            lis = lda.get_document_topics(bow=onemat, minimum_probability=0)\n",
    "            for topic, prob in lis:\n",
    "                row[\"topic\"+str(topic+1)] = prob\n",
    "            writer.writerow(row)"
   ]
  },
  {
   "cell_type": "code",
   "execution_count": 13,
   "id": "6ede07db",
   "metadata": {},
   "outputs": [],
   "source": [
    "dic = lda.__dict__['id2word']"
   ]
  },
  {
   "cell_type": "code",
   "execution_count": 30,
   "id": "f45bbf2d",
   "metadata": {},
   "outputs": [
    {
     "data": {
      "text/plain": [
       "33468"
      ]
     },
     "execution_count": 30,
     "metadata": {},
     "output_type": "execute_result"
    }
   ],
   "source": [
    "len(dic)"
   ]
  },
  {
   "cell_type": "markdown",
   "id": "ce5f9eff",
   "metadata": {},
   "source": [
    "# Visualization"
   ]
  },
  {
   "cell_type": "code",
   "execution_count": 10,
   "id": "418359ba",
   "metadata": {},
   "outputs": [
    {
     "name": "stdout",
     "output_type": "stream",
     "text": [
      "C:\\Users\\lin\\Box\\Yijun-Jingya\\Startup sample\\model\\model-phrase-15\n"
     ]
    }
   ],
   "source": [
    "num_topic = 15\n",
    "tmp_path = datapath(folder+\"model\\\\\"+\"model-phrase-\"+str(num_topic))\n",
    "lda = Lda.load(tmp_path, mmap='r')\n",
    "print(tmp_path)"
   ]
  },
  {
   "cell_type": "code",
   "execution_count": null,
   "id": "0566f196",
   "metadata": {},
   "outputs": [],
   "source": []
  },
  {
   "cell_type": "code",
   "execution_count": 35,
   "id": "e201e131",
   "metadata": {},
   "outputs": [],
   "source": [
    "from matplotlib import pyplot as plt\n",
    "from wordcloud import WordCloud, STOPWORDS\n",
    "import matplotlib.colors as mcolors\n",
    "# reference: https://amueller.github.io/word_cloud/auto_examples/simple.html\n",
    "cols = [color for name, color in mcolors.TABLEAU_COLORS.items()]  # more colors: 'mcolors.XKCD_COLORS'\n",
    "\n",
    "cloud = WordCloud(stopwords=STOPWORDS,\n",
    "                  background_color='white',\n",
    "                  width=2500,\n",
    "                  height=1800,\n",
    "                  max_words=10,\n",
    "                  prefer_horizontal=0.7)\n",
    "\n",
    "topics = lda.show_topics(formatted=False, num_topics=-1)\n",
    "\n",
    "for topic in topics:\n",
    "    num = topic[0]\n",
    "    topic_words = dict(topic[1])\n",
    "    cloud.generate_from_frequencies(topic_words)\n",
    "    cloud.to_file(folder+\"topic\"+str(num)+\".png\")\n",
    "\n",
    "# fig, axes = plt.subplots(2, 2, figsize=(10,10), sharex=True, sharey=True)\n",
    "# print(topic_words)\n",
    "# for i, ax in enumerate(axes.flatten()):\n",
    "#     fig.add_subplot(ax)\n",
    "#     topic_words = dict(topics[i][1])\n",
    "#     cloud.generate_from_frequencies(topic_words, max_font_size=300)\n",
    "#     plt.gca().imshow(cloud)\n",
    "#     plt.gca().set_title('Topic ' + str(i), fontdict=dict(size=16))\n",
    "#     plt.gca().axis('off')\n",
    "\n",
    "\n",
    "# plt.subplots_adjust(wspace=0, hspace=0)\n",
    "# plt.axis('off')\n",
    "# plt.margins(x=0, y=0)\n",
    "# plt.tight_layout()\n",
    "# plt.show()"
   ]
  },
  {
   "cell_type": "code",
   "execution_count": 36,
   "id": "ea676dbe",
   "metadata": {},
   "outputs": [
    {
     "data": {
      "text/plain": [
       "15"
      ]
     },
     "execution_count": 36,
     "metadata": {},
     "output_type": "execute_result"
    }
   ],
   "source": [
    "len(topics)"
   ]
  },
  {
   "cell_type": "code",
   "execution_count": null,
   "id": "44ea1325",
   "metadata": {},
   "outputs": [],
   "source": []
  }
 ],
 "metadata": {
  "kernelspec": {
   "display_name": "Python 3",
   "language": "python",
   "name": "python3"
  },
  "language_info": {
   "codemirror_mode": {
    "name": "ipython",
    "version": 3
   },
   "file_extension": ".py",
   "mimetype": "text/x-python",
   "name": "python",
   "nbconvert_exporter": "python",
   "pygments_lexer": "ipython3",
   "version": "3.8.8"
  }
 },
 "nbformat": 4,
 "nbformat_minor": 5
}
